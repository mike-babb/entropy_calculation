{
 "cells": [
  {
   "cell_type": "code",
   "execution_count": 1,
   "id": "46ffad11",
   "metadata": {},
   "outputs": [],
   "source": [
    "# Mike Babb\n",
    "# 2022 02 04\n",
    "# Calculate entropy"
   ]
  },
  {
   "cell_type": "code",
   "execution_count": 2,
   "id": "0afde001",
   "metadata": {},
   "outputs": [],
   "source": [
    "# libraries\n",
    "from collections import Counter\n",
    "import numpy as np"
   ]
  },
  {
   "cell_type": "code",
   "execution_count": 3,
   "id": "c8f7f022",
   "metadata": {},
   "outputs": [],
   "source": [
    "def calc_entropy(x):\n",
    "    # calculate the entropy of a vector\n",
    "    \n",
    "    # count the number of unique items in a list\n",
    "    x_count = np.array(list(Counter(x).values()))\n",
    "    # compute the probability of each item's occurrence\n",
    "    px = x_count / len(x)\n",
    "    \n",
    "    # compute the entropy score\n",
    "    entropy_score = -1 * (sum(px * np.log(px)))\n",
    "    print(entropy_score)  "
   ]
  },
  {
   "cell_type": "code",
   "execution_count": 4,
   "id": "806e8560",
   "metadata": {},
   "outputs": [],
   "source": [
    "# lists of store names\n",
    "sn1 = ['starbucks', 'starbucks', 'starbucks']\n",
    "sn2 = ['stanford', 'staples', 'staples']\n",
    "sn3 = ['stanford', 'staples', 'starbucks']"
   ]
  },
  {
   "cell_type": "code",
   "execution_count": 5,
   "id": "12e3e4ce",
   "metadata": {},
   "outputs": [
    {
     "name": "stdout",
     "output_type": "stream",
     "text": [
      "-0.0\n",
      "0.6365141682948128\n",
      "1.0986122886681096\n"
     ]
    }
   ],
   "source": [
    "calc_entropy(x = sn1) # no diversity, zero entropy\n",
    "calc_entropy(x = sn2) # moderate diversity, moderate entropy\n",
    "calc_entropy(x = sn3) # high diversity, high entropy"
   ]
  },
  {
   "cell_type": "code",
   "execution_count": 6,
   "id": "0435d1d9",
   "metadata": {},
   "outputs": [
    {
     "name": "stdout",
     "output_type": "stream",
     "text": [
      "['stanford', 'staples', 'starbucks']\n",
      "['starbucks', 'stanford', 'staples']\n",
      "1.0986122886681096\n"
     ]
    }
   ],
   "source": [
    "# position does not matter\n",
    "print(sn3)\n",
    "np.random.shuffle(sn3)\n",
    "print(sn3)\n",
    "calc_entropy(x=sn3)"
   ]
  }
 ],
 "metadata": {
  "kernelspec": {
   "display_name": "Python 3 (ipykernel)",
   "language": "python",
   "name": "python3"
  },
  "language_info": {
   "codemirror_mode": {
    "name": "ipython",
    "version": 3
   },
   "file_extension": ".py",
   "mimetype": "text/x-python",
   "name": "python",
   "nbconvert_exporter": "python",
   "pygments_lexer": "ipython3",
   "version": "3.8.12"
  }
 },
 "nbformat": 4,
 "nbformat_minor": 5
}
